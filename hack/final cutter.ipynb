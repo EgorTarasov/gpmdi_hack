{
 "cells": [
  {
   "cell_type": "code",
   "execution_count": 17,
   "metadata": {},
   "outputs": [],
   "source": [
    "import cv2\n",
    "import numpy as np\n",
    "from tqdm import tqdm\n",
    "from PIL import Image\n",
    "from sentence_transformers import SentenceTransformer\n",
    "from sklearn.metrics import pairwise_distances\n",
    "import pandas as pd\n",
    "from numba import njit\n",
    "from datetime import timedelta\n",
    "from scipy.stats import mode"
   ]
  },
  {
   "cell_type": "code",
   "execution_count": 2,
   "metadata": {},
   "outputs": [],
   "source": [
    "df_stats = pd.read_csv(\"text_df_silicon_val_50window.csv\")"
   ]
  },
  {
   "cell_type": "code",
   "execution_count": 4,
   "metadata": {},
   "outputs": [],
   "source": [
    "def frames_to_time(frame_idx, fps):\n",
    "    \"\"\"Преобразует индекс кадра в строку времени в формате hh:mm:ss\"\"\"\n",
    "    total_seconds = frame_idx / fps\n",
    "    time_str = str(timedelta(seconds=int(total_seconds)))\n",
    "    return time_str\n",
    "\n",
    "\n",
    "def extract_frames_with_time(video_path, step_seconds, time_list_in_seconds):\n",
    "    video = cv2.VideoCapture(video_path)\n",
    "    fps = video.get(cv2.CAP_PROP_FPS)\n",
    "    step_frames = int(fps * step_seconds)\n",
    "    total_frames = int(video.get(cv2.CAP_PROP_FRAME_COUNT))\n",
    "\n",
    "    # Преобразуем список времени (в секундах) в кадры\n",
    "    time_frames = [int(time * fps) for time in time_list_in_seconds]\n",
    "\n",
    "    # Уникальные кадры с шагом 2 + кадры из списка времени\n",
    "    # frames_to_capture = sorted(set(time_frames))\n",
    "    frames_to_capture = sorted(\n",
    "        set(range(0, total_frames, step_frames)) | set(time_frames)\n",
    "    )\n",
    "    frames_with_time = []\n",
    "\n",
    "    for frame_idx in tqdm(frames_to_capture):\n",
    "        video.set(cv2.CAP_PROP_POS_FRAMES, frame_idx)\n",
    "        success, frame = video.read()\n",
    "        if success:\n",
    "            frame_time = frames_to_time(frame_idx, fps)  # Преобразуем кадр в время\n",
    "            frames_with_time.append((frame, frame_time))\n",
    "\n",
    "    video.release()\n",
    "    return frames_with_time"
   ]
  },
  {
   "cell_type": "code",
   "execution_count": 5,
   "metadata": {},
   "outputs": [],
   "source": [
    "PATH = r\"C:\\Users\\user\\Downloads\\Silicon Valley.KVK.ExKinoRay\\Silicon Valley S06E01.2019.KvK.WEB-DLRip.avi\""
   ]
  },
  {
   "cell_type": "code",
   "execution_count": 6,
   "metadata": {},
   "outputs": [
    {
     "name": "stderr",
     "output_type": "stream",
     "text": [
      "100%|██████████| 1520/1520 [00:25<00:00, 58.98it/s]\n"
     ]
    }
   ],
   "source": [
    "kek = extract_frames_with_time(PATH, 2, list(df_stats[\"start\"]))"
   ]
  },
  {
   "cell_type": "code",
   "execution_count": 7,
   "metadata": {},
   "outputs": [
    {
     "name": "stderr",
     "output_type": "stream",
     "text": [
      "c:\\Users\\user\\source\\cp_video\\env\\Lib\\site-packages\\transformers\\tokenization_utils_base.py:1601: FutureWarning: `clean_up_tokenization_spaces` was not set. It will be set to `True` by default. This behavior will be depracted in transformers v4.45, and will be then set to `False` by default. For more details check this issue: https://github.com/huggingface/transformers/issues/31884\n",
      "  warnings.warn(\n"
     ]
    }
   ],
   "source": [
    "model_name = \"clip-ViT-B-16\"\n",
    "st_model = SentenceTransformer(model_name)"
   ]
  },
  {
   "cell_type": "code",
   "execution_count": 8,
   "metadata": {},
   "outputs": [],
   "source": [
    "def vectorize_img(image_array, model=st_model):\n",
    "    if isinstance(image_array, np.ndarray):\n",
    "        img = Image.fromarray(image_array)\n",
    "    else:\n",
    "        raise ValueError(\"Input must be a NumPy array.\")\n",
    "    return model.encode(img)"
   ]
  },
  {
   "cell_type": "code",
   "execution_count": 9,
   "metadata": {},
   "outputs": [],
   "source": [
    "def get_embedd(frames_time):\n",
    "    embedding = []\n",
    "    frames = [i[0] for i in frames_time]\n",
    "    for emb in tqdm(frames):\n",
    "        embed_frame = vectorize_img(emb)\n",
    "        embedding.append(embed_frame)\n",
    "    return embedding"
   ]
  },
  {
   "cell_type": "code",
   "execution_count": null,
   "metadata": {},
   "outputs": [],
   "source": [
    "# embedding = get_embedd(kek)"
   ]
  },
  {
   "cell_type": "code",
   "execution_count": 10,
   "metadata": {},
   "outputs": [],
   "source": [
    "embedding = np.load(\"embedding_06-01.npy\")"
   ]
  },
  {
   "cell_type": "code",
   "execution_count": 11,
   "metadata": {},
   "outputs": [],
   "source": [
    "embedding = np.array(embedding)\n",
    "cosine_distance_matrix = pairwise_distances(embedding, metric=\"cosine\")"
   ]
  },
  {
   "cell_type": "code",
   "execution_count": 12,
   "metadata": {},
   "outputs": [],
   "source": [
    "def find_closest_t(cosine_distance_matrix, t_start=0.05, t_end=0.95, t_step=0.05):\n",
    "    t_values = np.arange(t_start, t_end + t_step, t_step)\n",
    "    ones_counts = []\n",
    "\n",
    "    for t in t_values:\n",
    "        cosine_distance_matrix2 = (cosine_distance_matrix > t).astype(int)\n",
    "        ones_count = np.sum(cosine_distance_matrix2)  # Подсчет единиц\n",
    "        ones_counts.append(ones_count)\n",
    "\n",
    "    min_value = np.min(ones_counts)\n",
    "    max_value = np.max(ones_counts)\n",
    "    scaled_ones_counts = (ones_counts - min_value) / (max_value - min_value)\n",
    "\n",
    "    closest_index = (np.abs(scaled_ones_counts - 0.5)).argmin()\n",
    "    corresponding_t = t_values[closest_index]\n",
    "\n",
    "    return corresponding_t"
   ]
  },
  {
   "cell_type": "code",
   "execution_count": 13,
   "metadata": {},
   "outputs": [],
   "source": [
    "corresponding_t = find_closest_t(cosine_distance_matrix)"
   ]
  },
  {
   "cell_type": "code",
   "execution_count": 14,
   "metadata": {},
   "outputs": [],
   "source": [
    "cosine_distance_matrix2 = (cosine_distance_matrix > corresponding_t).astype(int)"
   ]
  },
  {
   "cell_type": "code",
   "execution_count": 15,
   "metadata": {},
   "outputs": [],
   "source": [
    "@njit\n",
    "def count_different_neighbors(matrix, i, j):\n",
    "    different_neighbors = 0\n",
    "    rows, cols = matrix.shape\n",
    "    for x in range(max(0, i - 1), min(rows, i + 2)):\n",
    "        for y in range(max(0, j - 1), min(cols, j + 2)):\n",
    "            if (x != i or y != j) and matrix[x, y] != matrix[i, j]:\n",
    "                different_neighbors += 1\n",
    "    return different_neighbors\n",
    "\n",
    "\n",
    "# Шаг заражения\n",
    "@njit\n",
    "def infection_step(matrix):\n",
    "    new_matrix = matrix.copy()  # Используем NumPy для копирования массива\n",
    "    rows, cols = matrix.shape\n",
    "    for i in range(rows):\n",
    "        for j in range(cols):\n",
    "            different_neighbors = count_different_neighbors(matrix, i, j)\n",
    "            if different_neighbors >= 4:\n",
    "                new_matrix[i, j] = (\n",
    "                    1 - matrix[i, j]\n",
    "                )  # Меняем значение ячейки на противоположное\n",
    "    return new_matrix\n",
    "\n",
    "\n",
    "# Функция для подсчета нулей и единиц (без Numba, так как она работает быстро)\n",
    "def count_zeros_ones(matrix):\n",
    "    zeros = np.sum(matrix == 0)\n",
    "    ones = np.sum(matrix == 1)\n",
    "    return zeros, ones\n",
    "\n",
    "\n",
    "# Основная функция для многократного заражения\n",
    "def multi_infection(matrix, N):\n",
    "    current_matrix = matrix\n",
    "    for step in range(N):\n",
    "        # print(f\"\\nШаг {step + 1}:\")\n",
    "        # Подсчет количества нулей и единиц до заражения\n",
    "        zeros_before, ones_before = count_zeros_ones(current_matrix)\n",
    "\n",
    "        # Заражение\n",
    "        new_matrix = infection_step(current_matrix)\n",
    "\n",
    "        # Подсчет количества нулей и единиц после заражения\n",
    "        zeros_after, ones_after = count_zeros_ones(new_matrix)\n",
    "\n",
    "        # Процент изменений\n",
    "        zero_change_percent = (\n",
    "            ((zeros_after - zeros_before) / zeros_before * 100)\n",
    "            if zeros_before > 0\n",
    "            else 0\n",
    "        )\n",
    "        one_change_percent = (\n",
    "            ((ones_after - ones_before) / ones_before * 100) if ones_before > 0 else 0\n",
    "        )\n",
    "\n",
    "        # Вывод результатов\n",
    "        # print(f\"До заражения: 0 - {zeros_before}, 1 - {ones_before}\")\n",
    "        # print(f\"После заражения: 0 - {zeros_after}, 1 - {ones_after}\")\n",
    "        # print(f\"Изменение: 0 -> {zero_change_percent:.2f}%, 1 -> {one_change_percent:.2f}%\")\n",
    "\n",
    "        # Если изменения незначительные, останавливаем процесс\n",
    "        if (zero_change_percent < 0.01) and (one_change_percent < 0.01):\n",
    "            break\n",
    "\n",
    "        # Обновляем текущую матрицу для следующего шага\n",
    "        current_matrix = new_matrix\n",
    "\n",
    "    return current_matrix\n",
    "\n",
    "\n",
    "# Пример использования\n",
    "N = 50  # Количество шагов заражения\n",
    "\n",
    "# Применяем функцию multi_infection\n",
    "smooth2 = multi_infection(cosine_distance_matrix2, N)"
   ]
  },
  {
   "cell_type": "code",
   "execution_count": 26,
   "metadata": {},
   "outputs": [],
   "source": [
    "n = smooth2.shape[0]\n",
    "\n",
    "# Список для хранения средних значений по строкам и столбцам\n",
    "average_values = []\n",
    "\n",
    "# Пройтись по всем элементам диагонали\n",
    "for i in range(n):\n",
    "    # Извлекаем соответствующие строку и столбец, исключая элемент на диагонали\n",
    "    row_sum = np.sum(smooth2[i, :])\n",
    "    col_sum = np.sum(smooth2[:, i])\n",
    "\n",
    "    # Среднее значение по строке и столбцу\n",
    "    mean_value = (row_sum + col_sum) / (\n",
    "        2 * (n - 1)\n",
    "    )  # Двухкратное исключение диагонального элемента\n",
    "    average_values.append(mean_value)"
   ]
  },
  {
   "cell_type": "code",
   "execution_count": 33,
   "metadata": {},
   "outputs": [],
   "source": [
    "# Функция для скользящей моды\n",
    "def sliding_mode(arr, window_size):\n",
    "    result = []\n",
    "    for i in range(len(arr)):\n",
    "        start = max(0, i - window_size // 2)\n",
    "        end = min(len(arr), i + window_size // 2 + 1)\n",
    "        window_mode = mode(arr[start:end], keepdims=True).mode[\n",
    "            0\n",
    "        ]  # Используем keepdims=True\n",
    "        result.append(window_mode)\n",
    "    return np.array(result)\n",
    "\n",
    "\n",
    "# Применяем скользящую моду с окном размером 3\n",
    "window_size = 10\n",
    "smoothed_values = sliding_mode(np.array(average_values), window_size)"
   ]
  },
  {
   "cell_type": "code",
   "execution_count": 38,
   "metadata": {},
   "outputs": [],
   "source": [
    "def seconds_to_time(seconds):\n",
    "    h = seconds // 3600\n",
    "    m = (seconds % 3600) // 60\n",
    "    s = seconds % 60\n",
    "    return f\"{h:02}:{m:02}:{s:02}\""
   ]
  },
  {
   "cell_type": "code",
   "execution_count": 35,
   "metadata": {},
   "outputs": [],
   "source": [
    "shift = 5\n",
    "kek_times = [i[1] for i in kek]\n",
    "\n",
    "# Массив для хранения временных значений\n",
    "time_values = []\n",
    "\n",
    "# Собираем значения времени со смещением\n",
    "for idx in np.where(smoothed_values > 0.5)[0]:\n",
    "    shifted_idx = max(\n",
    "        0, idx - shift\n",
    "    )  # Учитываем смещение, не выходя за пределы массива\n",
    "    time_values.append(kek_times[shifted_idx])\n",
    "\n",
    "\n",
    "# Функция для преобразования времени в секунды\n",
    "def time_to_seconds(time_str):\n",
    "    h, m, s = map(int, time_str.split(\":\"))\n",
    "    return h * 3600 + m * 60 + s\n",
    "\n",
    "\n",
    "# Преобразуем временные значения в секунды\n",
    "time_values_in_seconds = [time_to_seconds(t) for t in time_values]\n",
    "window_size = 10\n",
    "time_values_in_seconds = sliding_mode(np.array(time_values_in_seconds), window_size)\n",
    "# Построение графика"
   ]
  },
  {
   "cell_type": "code",
   "execution_count": 39,
   "metadata": {},
   "outputs": [
    {
     "name": "stdout",
     "output_type": "stream",
     "text": [
      "Массив после изменений: ['00:00:00', '00:00:00', '00:00:00', '00:00:00', '00:00:00', '00:00:00', '00:00:00', '00:00:00', '00:00:00', '00:00:00', '00:00:00', '00:00:15', '00:00:15', '00:00:15', '00:00:15', '00:00:15', '00:00:15', '00:00:41', '00:00:41', '00:00:41', '00:00:41', '00:00:41', '00:00:41', '00:00:41', '00:00:41', '00:00:41', '00:00:41', '00:01:00', '00:01:00', '00:01:00', '00:01:00', '00:01:00', '00:01:00', '00:01:00', '00:01:00', '00:01:00', '00:01:00', '00:01:00', '00:01:00', '00:01:00', '00:01:00', '00:01:00', '00:01:00', '00:01:00', '00:01:00', '00:01:00', '00:01:00', '00:01:00', '00:01:00', '00:01:00', '00:01:00', '00:01:00', '00:01:00', '00:01:00', '00:01:00', '00:01:00', '00:01:00', '00:01:00', '00:01:00', '00:01:00', '00:01:00', '00:01:51', '00:01:51', '00:01:51', '00:01:51', '00:01:51', '00:01:51', '00:01:51', '00:01:51', '00:01:51', '00:01:51', '00:01:51', '00:01:51', '00:01:51', '00:01:51', '00:01:51', '00:01:51', '00:01:51', '00:01:51', '00:02:21', '00:02:21', '00:02:21', '00:02:21', '00:02:21', '00:02:21', '00:02:21', '00:02:21', '00:02:21', '00:02:21', '00:02:21', '00:02:21', '00:02:21', '00:02:21', '00:02:21', '00:02:21', '00:02:21', '00:02:21', '00:02:21', '00:02:21', '00:02:21', '00:02:58', '00:02:58', '00:02:58', '00:02:58', '00:02:58', '00:02:58', '00:02:58', '00:02:58', '00:02:58', '00:02:58', '00:02:58', '00:03:14', '00:03:14', '00:03:14', '00:03:14', '00:03:14', '00:03:14', '00:03:14', '00:03:14', '00:03:14', '00:03:14', '00:03:14', '00:03:14', '00:03:14', '00:03:14', '00:03:14', '00:03:14', '00:03:14', '00:03:14', '00:03:14', '00:03:14', '00:03:14', '00:03:14', '00:03:14', '00:03:14', '00:03:14', '00:03:14', '00:03:14', '00:03:14', '00:03:14', '00:03:14', '00:03:14', '00:03:14', '00:03:14', '00:03:14', '00:03:14', '00:03:14', '00:03:14', '00:03:14', '00:03:14', '00:03:14', '00:03:14', '00:03:14', '00:03:14', '00:03:14', '00:03:14', '00:03:14', '00:03:14', '00:03:14', '00:03:14', '00:03:14', '00:03:14', '00:04:18', '00:04:18', '00:04:18', '00:04:18', '00:04:18', '00:04:18', '00:04:18', '00:04:18', '00:04:18', '00:04:18', '00:04:18', '00:04:18', '00:04:18', '00:04:40', '00:04:40', '00:04:40', '00:04:40', '00:04:40', '00:04:40', '00:04:40', '00:04:40', '00:05:35', '00:05:35', '00:05:35', '00:05:35', '00:05:35', '00:05:35', '00:05:35', '00:05:35', '00:12:22', '00:12:22', '00:12:22', '00:12:22', '00:12:22', '00:12:22', '00:12:22', '00:12:22', '00:12:22', '00:12:22', '00:12:22', '00:12:22', '00:12:22', '00:12:22', '00:12:22', '00:12:22', '00:13:45', '00:13:45', '00:13:45', '00:13:45', '00:13:45', '00:13:45', '00:13:45', '00:13:45', '00:13:45', '00:13:45', '00:13:45', '00:13:45', '00:13:45', '00:13:45', '00:13:45', '00:14:20', '00:14:20', '00:14:20', '00:14:20', '00:14:20', '00:14:20', '00:14:20', '00:14:20', '00:14:20', '00:14:20', '00:14:20', '00:16:08', '00:16:08', '00:16:08', '00:16:08', '00:16:08', '00:16:08', '00:16:08', '00:16:08', '00:16:08', '00:16:08', '00:16:20', '00:16:20', '00:16:20', '00:16:20', '00:16:20', '00:16:20', '00:16:20', '00:16:20', '00:18:39', '00:18:39', '00:18:39', '00:18:39', '00:18:39', '00:18:39', '00:18:39', '00:18:39', '00:18:39', '00:18:39', '00:18:39', '00:20:46', '00:20:46', '00:20:46', '00:20:46', '00:20:46', '00:20:46', '00:20:46', '00:20:46', '00:20:46', '00:20:46', '00:20:46', '00:20:46', '00:20:46', '00:20:46', '00:20:46', '00:20:46', '00:20:46', '00:24:18', '00:24:18', '00:24:18', '00:24:18', '00:24:18', '00:24:18', '00:24:18', '00:24:18', '00:24:18', '00:24:18', '00:24:18', '00:24:18', '00:24:18', '00:24:18', '00:25:05', '00:25:05', '00:25:05', '00:26:33', '00:26:33', '00:26:33', '00:26:33', '00:26:33', '00:26:33', '00:26:33', '00:26:33', '00:26:33']\n"
     ]
    }
   ],
   "source": [
    "def adjust_values_based_on_eps(original_values, eps):\n",
    "    # Копируем оригинальный массив для создания нового с заменами\n",
    "    adjusted_values = np.copy(original_values)\n",
    "\n",
    "    # Проходим по массиву\n",
    "    for i in range(len(original_values) - 1):\n",
    "        # Сравниваем соседние элементы на оригинальном массиве\n",
    "        if abs(original_values[i + 1] - original_values[i]) <= eps:\n",
    "            # Если разница меньше или равна eps, заменяем следующий элемент\n",
    "            adjusted_values[i + 1] = adjusted_values[i]\n",
    "\n",
    "    return adjusted_values\n",
    "\n",
    "\n",
    "# Пример использования\n",
    "eps = 9  # Задаем значение eps\n",
    "\n",
    "adjusted_time_values = adjust_values_based_on_eps(time_values_in_seconds, eps)\n",
    "# print(\"Оригинальный массив:\", time_values_in_seconds)\n",
    "print(\"Массив после изменений:\", [seconds_to_time(t) for t in adjusted_time_values])"
   ]
  },
  {
   "cell_type": "code",
   "execution_count": 40,
   "metadata": {},
   "outputs": [],
   "source": [
    "time_final = np.unique([seconds_to_time(t) for t in adjusted_time_values])"
   ]
  },
  {
   "cell_type": "code",
   "execution_count": 41,
   "metadata": {},
   "outputs": [
    {
     "name": "stdout",
     "output_type": "stream",
     "text": [
      "00:00:00\n",
      "00:00:15\n",
      "00:00:41\n",
      "00:01:00\n",
      "00:01:51\n",
      "00:02:21\n",
      "00:02:58\n",
      "00:03:14\n",
      "00:04:18\n",
      "00:04:40\n",
      "00:05:35\n",
      "00:12:22\n",
      "00:13:45\n",
      "00:14:20\n",
      "00:16:08\n",
      "00:16:20\n",
      "00:18:39\n",
      "00:20:46\n",
      "00:24:18\n",
      "00:25:05\n",
      "00:26:33\n"
     ]
    }
   ],
   "source": [
    "for i in time_final:\n",
    "    print(i)"
   ]
  },
  {
   "cell_type": "code",
   "execution_count": null,
   "metadata": {},
   "outputs": [],
   "source": [
    "import pickle"
   ]
  }
 ],
 "metadata": {
  "kernelspec": {
   "display_name": "env",
   "language": "python",
   "name": "python3"
  },
  "language_info": {
   "codemirror_mode": {
    "name": "ipython",
    "version": 3
   },
   "file_extension": ".py",
   "mimetype": "text/x-python",
   "name": "python",
   "nbconvert_exporter": "python",
   "pygments_lexer": "ipython3",
   "version": "3.11.1"
  }
 },
 "nbformat": 4,
 "nbformat_minor": 2
}
